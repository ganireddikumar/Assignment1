{
  "cells": [
    {
      "cell_type": "markdown",
      "metadata": {
        "id": "view-in-github",
        "colab_type": "text"
      },
      "source": [
        "<a href=\"https://colab.research.google.com/github/ganireddikumar/Assignment1/blob/main/Project.ipynb\" target=\"_parent\"><img src=\"https://colab.research.google.com/assets/colab-badge.svg\" alt=\"Open In Colab\"/></a>"
      ]
    },
    {
      "cell_type": "markdown",
      "id": "636f5582",
      "metadata": {
        "id": "636f5582"
      },
      "source": [
        "# **DATA PREPROCESSING**"
      ]
    },
    {
      "cell_type": "markdown",
      "id": "1f9cf8c2",
      "metadata": {
        "id": "1f9cf8c2"
      },
      "source": [
        "# *Import the Libraries*"
      ]
    },
    {
      "cell_type": "code",
      "execution_count": null,
      "id": "47de402d",
      "metadata": {
        "id": "47de402d"
      },
      "outputs": [],
      "source": [
        "import pandas as pd\n",
        "import numpy as np\n",
        "import matplotlib.pyplot as plt"
      ]
    },
    {
      "cell_type": "markdown",
      "id": "c762782f",
      "metadata": {
        "id": "c762782f"
      },
      "source": [
        "# *Importing the Dataset*"
      ]
    },
    {
      "cell_type": "code",
      "execution_count": null,
      "id": "d4fbc2af",
      "metadata": {
        "id": "d4fbc2af"
      },
      "outputs": [],
      "source": [
        "data=pd.read_excel(r\"D:\\Crude Oil Prices Daily.xlsx\")"
      ]
    },
    {
      "cell_type": "markdown",
      "id": "032692f5",
      "metadata": {
        "id": "032692f5"
      },
      "source": [
        "# *Analyze the Data*"
      ]
    },
    {
      "cell_type": "code",
      "execution_count": null,
      "id": "1da77078",
      "metadata": {
        "id": "1da77078"
      },
      "outputs": [],
      "source": [
        "data.head()"
      ]
    },
    {
      "cell_type": "code",
      "execution_count": null,
      "id": "57fadb63",
      "metadata": {
        "id": "57fadb63"
      },
      "outputs": [],
      "source": [
        "data.tail()"
      ]
    },
    {
      "cell_type": "code",
      "execution_count": null,
      "id": "d2a0c460",
      "metadata": {
        "id": "d2a0c460"
      },
      "outputs": [],
      "source": [
        "data.describe()"
      ]
    },
    {
      "cell_type": "code",
      "execution_count": null,
      "id": "a964fb1f",
      "metadata": {
        "id": "a964fb1f"
      },
      "outputs": [],
      "source": [
        "data.info()"
      ]
    },
    {
      "cell_type": "markdown",
      "id": "502fca34",
      "metadata": {
        "id": "502fca34"
      },
      "source": [
        "# *Handling Missing Data*"
      ]
    },
    {
      "cell_type": "code",
      "execution_count": null,
      "id": "2aa877b3",
      "metadata": {
        "id": "2aa877b3"
      },
      "outputs": [],
      "source": [
        "data.isnull().any()"
      ]
    },
    {
      "cell_type": "code",
      "execution_count": null,
      "id": "704aa9d5",
      "metadata": {
        "id": "704aa9d5"
      },
      "outputs": [],
      "source": [
        "data.isnull().sum()"
      ]
    },
    {
      "cell_type": "code",
      "execution_count": null,
      "id": "c1f0e89d",
      "metadata": {
        "id": "c1f0e89d"
      },
      "outputs": [],
      "source": [
        "data.dropna(axis=0,inplace = True)"
      ]
    },
    {
      "cell_type": "code",
      "execution_count": null,
      "id": "a0aa4ba6",
      "metadata": {
        "id": "a0aa4ba6"
      },
      "outputs": [],
      "source": [
        "data.isnull().sum()"
      ]
    },
    {
      "cell_type": "code",
      "execution_count": null,
      "id": "e35384ac",
      "metadata": {
        "id": "e35384ac"
      },
      "outputs": [],
      "source": [
        "data_oil=data.reset_index()['Closing Value']"
      ]
    },
    {
      "cell_type": "code",
      "execution_count": null,
      "id": "ee799d0f",
      "metadata": {
        "id": "ee799d0f"
      },
      "outputs": [],
      "source": [
        "data_oil"
      ]
    },
    {
      "cell_type": "markdown",
      "id": "456106d7",
      "metadata": {
        "id": "456106d7"
      },
      "source": [
        "# *Feature Scaling*"
      ]
    },
    {
      "cell_type": "code",
      "execution_count": null,
      "id": "bf6218b4",
      "metadata": {
        "id": "bf6218b4"
      },
      "outputs": [],
      "source": [
        "from sklearn.preprocessing import MinMaxScaler\n",
        "scaler=MinMaxScaler(feature_range=(0,1))\n",
        "data_oil=scaler.fit_transform(np.array(data_oil).reshape(-1,1))"
      ]
    },
    {
      "cell_type": "markdown",
      "id": "1228f4a6",
      "metadata": {
        "id": "1228f4a6"
      },
      "source": [
        "# *Data Visualization*"
      ]
    },
    {
      "cell_type": "code",
      "execution_count": null,
      "id": "791741e0",
      "metadata": {
        "id": "791741e0"
      },
      "outputs": [],
      "source": [
        "plt.plot(data_oil)"
      ]
    },
    {
      "cell_type": "markdown",
      "id": "2fa60d34",
      "metadata": {
        "id": "2fa60d34"
      },
      "source": [
        "# *Splitting Data Into Train And Test*"
      ]
    },
    {
      "cell_type": "code",
      "execution_count": null,
      "id": "69539a75",
      "metadata": {
        "id": "69539a75"
      },
      "outputs": [],
      "source": [
        "training_size=int(len(data_oil)*0.65)\n",
        "test_size=len(data_oil)-training_size\n",
        "train_data,test_data=data_oil[0:training_size,:],data_oil[training_size:len(data_oil),:1]"
      ]
    },
    {
      "cell_type": "code",
      "execution_count": null,
      "id": "ff8c97d4",
      "metadata": {
        "id": "ff8c97d4"
      },
      "outputs": [],
      "source": [
        "training_size,test_size"
      ]
    },
    {
      "cell_type": "code",
      "execution_count": null,
      "id": "db0368f1",
      "metadata": {
        "id": "db0368f1"
      },
      "outputs": [],
      "source": [
        "train_data.shape"
      ]
    },
    {
      "cell_type": "markdown",
      "id": "13948878",
      "metadata": {
        "id": "13948878"
      },
      "source": [
        "# *Creating A Dataset With Sliding Windows*"
      ]
    },
    {
      "cell_type": "code",
      "execution_count": null,
      "id": "c96ab3c6",
      "metadata": {
        "id": "c96ab3c6"
      },
      "outputs": [],
      "source": [
        "# convert an array of values into a dataset matrix\n",
        "def create_dataset (dataset, time_step=1):\n",
        "    dataX, dataY = [], []\n",
        "    for i in range(len(dataset)-time_step-1):\n",
        "        a = dataset[i:(i+time_step), 0] \n",
        "        dataX.append(a) \n",
        "        dataY.append(dataset[i + time_step, 0])\n",
        "    return np.array(dataX), np.array(dataY)"
      ]
    },
    {
      "cell_type": "code",
      "execution_count": null,
      "id": "16f592b8",
      "metadata": {
        "id": "16f592b8"
      },
      "outputs": [],
      "source": [
        "# reshape into x=t,t+1,t+2,t+3 and Y=t+4\n",
        "time_step = 10\n",
        "x_train, y_train = create_dataset(train_data, time_step) \n",
        "x_test, ytest = create_dataset(test_data, time_step)"
      ]
    },
    {
      "cell_type": "code",
      "execution_count": null,
      "id": "c1a4adb7",
      "metadata": {
        "id": "c1a4adb7"
      },
      "outputs": [],
      "source": [
        "print (x_train.shape), print(y_train.shape)"
      ]
    },
    {
      "cell_type": "code",
      "execution_count": null,
      "id": "acb87098",
      "metadata": {
        "id": "acb87098"
      },
      "outputs": [],
      "source": [
        "print (x_test.shape), print(ytest.shape)"
      ]
    },
    {
      "cell_type": "code",
      "execution_count": null,
      "id": "e0150cb5",
      "metadata": {
        "id": "e0150cb5"
      },
      "outputs": [],
      "source": [
        "x_train"
      ]
    },
    {
      "cell_type": "code",
      "execution_count": null,
      "id": "4e5e0017",
      "metadata": {
        "id": "4e5e0017"
      },
      "outputs": [],
      "source": [
        "x_train =x_train.reshape(x_train.shape[0],x_train.shape[1], 1)\n",
        "x_test =x_test.reshape(x_test.shape[0],x_test.shape[1], 1)"
      ]
    },
    {
      "cell_type": "markdown",
      "id": "97315c39",
      "metadata": {
        "id": "97315c39"
      },
      "source": [
        "# MODEL BUILDING"
      ]
    },
    {
      "cell_type": "markdown",
      "id": "00222146",
      "metadata": {
        "id": "00222146"
      },
      "source": [
        "# *Importing The Model Building Libraries*"
      ]
    },
    {
      "cell_type": "code",
      "execution_count": null,
      "id": "c8481f0c",
      "metadata": {
        "id": "c8481f0c"
      },
      "outputs": [],
      "source": [
        "import tensorflow as tf\n",
        "import tensorflow_datasets as tfds\n",
        "from tensorflow.keras.models import Sequential"
      ]
    },
    {
      "cell_type": "markdown",
      "id": "600f0e5c",
      "metadata": {
        "id": "600f0e5c"
      },
      "source": [
        "# *Initializing The Model*"
      ]
    },
    {
      "cell_type": "code",
      "execution_count": null,
      "id": "c4585f41",
      "metadata": {
        "id": "c4585f41"
      },
      "outputs": [],
      "source": [
        "model = Sequential()"
      ]
    },
    {
      "cell_type": "markdown",
      "id": "fbc20805",
      "metadata": {
        "id": "fbc20805"
      },
      "source": [
        "# *Adding LSTM Layers*"
      ]
    },
    {
      "cell_type": "code",
      "execution_count": null,
      "id": "bbb1df02",
      "metadata": {
        "id": "bbb1df02"
      },
      "outputs": [],
      "source": [
        "from tensorflow.keras.layers import LSTM\n",
        "from tensorflow.keras.layers import Dense\n",
        "model.add(LSTM(50, return_sequences=True, input_shape=(10,1))) \n",
        "model.add(LSTM(50, return_sequences=True)) \n",
        "model.add(LSTM(50))"
      ]
    },
    {
      "cell_type": "markdown",
      "id": "e83f886f",
      "metadata": {
        "id": "e83f886f"
      },
      "source": [
        "# *Adding Output Layers*"
      ]
    },
    {
      "cell_type": "code",
      "execution_count": null,
      "id": "8a3aeeaf",
      "metadata": {
        "id": "8a3aeeaf"
      },
      "outputs": [],
      "source": [
        "model.add(Dense(1))"
      ]
    },
    {
      "cell_type": "code",
      "execution_count": null,
      "id": "35d6ba49",
      "metadata": {
        "id": "35d6ba49"
      },
      "outputs": [],
      "source": [
        "model.summary()"
      ]
    },
    {
      "cell_type": "markdown",
      "id": "131b5d12",
      "metadata": {
        "id": "131b5d12"
      },
      "source": [
        "# *Configure The Learning Process*"
      ]
    },
    {
      "cell_type": "code",
      "execution_count": null,
      "id": "d5446853",
      "metadata": {
        "id": "d5446853"
      },
      "outputs": [],
      "source": [
        "model.compile(loss='mean_squared_error',optimizer='adam')"
      ]
    },
    {
      "cell_type": "markdown",
      "id": "26ab7367",
      "metadata": {
        "id": "26ab7367"
      },
      "source": [
        "# *Train The Model*"
      ]
    },
    {
      "cell_type": "code",
      "execution_count": null,
      "id": "cdd0749c",
      "metadata": {
        "id": "cdd0749c"
      },
      "outputs": [],
      "source": [
        "model.fit(x_train,y_train, validation_data=(x_test,ytest), epochs=50, batch_size=64, verbose=1)"
      ]
    },
    {
      "cell_type": "markdown",
      "id": "4fa8338b",
      "metadata": {
        "id": "4fa8338b"
      },
      "source": [
        "# *Model Evaluation*"
      ]
    },
    {
      "cell_type": "code",
      "execution_count": null,
      "id": "2abf4dea",
      "metadata": {
        "id": "2abf4dea"
      },
      "outputs": [],
      "source": [
        "\n",
        "train_predict = model.predict(x_train)\n",
        "test_predict = model.predict(x_test)\n",
        "train_predict=scaler.inverse_transform(train_predict) \n",
        "test_predict=scaler.inverse_transform(test_predict)\n",
        "\n",
        "import math \n",
        "from sklearn.metrics import mean_squared_error\n",
        "math.sqrt(mean_squared_error(y_train,train_predict))\n"
      ]
    },
    {
      "cell_type": "markdown",
      "id": "73b1bed6",
      "metadata": {
        "id": "73b1bed6"
      },
      "source": [
        "# *Save The Model*"
      ]
    },
    {
      "cell_type": "code",
      "execution_count": null,
      "id": "dd56ecf9",
      "metadata": {
        "id": "dd56ecf9"
      },
      "outputs": [],
      "source": [
        "from tensorflow.keras.models import load_model"
      ]
    },
    {
      "cell_type": "code",
      "execution_count": null,
      "id": "5a630938",
      "metadata": {
        "id": "5a630938"
      },
      "outputs": [],
      "source": [
        "model.save(\"crude_oil.h5\")"
      ]
    },
    {
      "cell_type": "markdown",
      "id": "c0b1af6b",
      "metadata": {
        "id": "c0b1af6b"
      },
      "source": [
        "# *Test The Model*"
      ]
    },
    {
      "cell_type": "code",
      "execution_count": null,
      "id": "d526ba20",
      "metadata": {
        "id": "d526ba20"
      },
      "outputs": [],
      "source": [
        "look_back=10\n",
        "trainpredictPlot = np.empty_like(data_oil)\n",
        "trainpredictPlot[:, :]= np.nan\n",
        "trainpredictPlot[look_back:len(train_predict)+look_back, :] = train_predict\n",
        "\n",
        "testPredictPlot = np.empty_like(data_oil)\n",
        "testPredictPlot[:, :] = np.nan\n",
        "testPredictPlot[len(train_predict)+(look_back*2)+1:len(data_oil)-1, :] = test_predict\n",
        "\n",
        "plt.plot(scaler.inverse_transform(data_oil))\n",
        "plt.plot(trainpredictPlot)\n",
        "plt.plot(testPredictPlot)\n",
        "plt.show()"
      ]
    },
    {
      "cell_type": "code",
      "execution_count": null,
      "id": "fc81da9f",
      "metadata": {
        "id": "fc81da9f"
      },
      "outputs": [],
      "source": [
        "len(test_data)"
      ]
    },
    {
      "cell_type": "code",
      "execution_count": null,
      "id": "f0045e32",
      "metadata": {
        "id": "f0045e32"
      },
      "outputs": [],
      "source": [
        "x_input=test_data[2866:].reshape(1,-1)\n",
        "x_input.shape"
      ]
    },
    {
      "cell_type": "code",
      "execution_count": null,
      "id": "3f9e3e82",
      "metadata": {
        "id": "3f9e3e82"
      },
      "outputs": [],
      "source": [
        "temp_input=list(x_input)\n",
        "temp_input=temp_input[0].tolist()"
      ]
    },
    {
      "cell_type": "code",
      "execution_count": null,
      "id": "9444215e",
      "metadata": {
        "id": "9444215e"
      },
      "outputs": [],
      "source": [
        "temp_input"
      ]
    },
    {
      "cell_type": "code",
      "execution_count": null,
      "id": "b09121de",
      "metadata": {
        "id": "b09121de"
      },
      "outputs": [],
      "source": [
        "lst_output=[]\n",
        "n_steps=10\n",
        "i=0\n",
        "while(i<10):\n",
        "    if(len(temp_input)>10):\n",
        "        #print(temp_input)\n",
        "        x_input=np.array(temp_input[1:]) \n",
        "        print(\"{} day input {}\".format(i,x_input))\n",
        "        x_input=x_input.reshape(1,-1)\n",
        "        x_input = x_input.reshape((1, n_steps, 1)) #print(x_input)\n",
        "        yhat = model.predict(x_input, verbose=0)\n",
        "        print(\"{} day output {}\".format(i,yhat))\n",
        "        temp_input.extend(yhat[0].tolist())\n",
        "        temp_input=temp_input[1:] #print(temp_input)\n",
        "        lst_output.extend(yhat.tolist())\n",
        "        i=i+1\n",
        "    else:\n",
        "        x_input = x_input.reshape((1, n_steps,1))\n",
        "        yhat = model.predict(x_input, verbose=0)\n",
        "        print(yhat[0])\n",
        "        temp_input.extend(yhat[0].tolist()) \n",
        "        print(len(temp_input))\n",
        "        lst_output.extend(yhat.tolist())\n",
        "        i=i+1"
      ]
    },
    {
      "cell_type": "code",
      "execution_count": null,
      "id": "2c451fa8",
      "metadata": {
        "id": "2c451fa8"
      },
      "outputs": [],
      "source": [
        "day_new=np.arange(1,11) \n",
        "day_pred=np.arange(11,21)"
      ]
    },
    {
      "cell_type": "code",
      "execution_count": null,
      "id": "5cf49d64",
      "metadata": {
        "id": "5cf49d64"
      },
      "outputs": [],
      "source": [
        "len(data_oil)"
      ]
    },
    {
      "cell_type": "code",
      "execution_count": null,
      "id": "74f61e69",
      "metadata": {
        "id": "74f61e69"
      },
      "outputs": [],
      "source": [
        "plt.plot(day_new, scaler.inverse_transform(data_oil[8206:]))\n",
        "plt.plot(day_pred, scaler.inverse_transform(lst_output))"
      ]
    },
    {
      "cell_type": "code",
      "execution_count": null,
      "id": "26c480fb",
      "metadata": {
        "id": "26c480fb"
      },
      "outputs": [],
      "source": [
        "df3=data_oil.tolist() \n",
        "df3.extend(lst_output) \n",
        "plt.plot(df3[8100:])"
      ]
    },
    {
      "cell_type": "code",
      "execution_count": null,
      "id": "8ccaf44f",
      "metadata": {
        "id": "8ccaf44f"
      },
      "outputs": [],
      "source": [
        "df3=scaler.inverse_transform(df3).tolist()"
      ]
    },
    {
      "cell_type": "code",
      "execution_count": null,
      "id": "1b542676",
      "metadata": {
        "id": "1b542676"
      },
      "outputs": [],
      "source": [
        "plt.plot(df3)"
      ]
    },
    {
      "cell_type": "code",
      "execution_count": null,
      "id": "88dc0b09",
      "metadata": {
        "id": "88dc0b09"
      },
      "outputs": [],
      "source": []
    }
  ],
  "metadata": {
    "kernelspec": {
      "display_name": "Python 3 (ipykernel)",
      "language": "python",
      "name": "python3"
    },
    "language_info": {
      "codemirror_mode": {
        "name": "ipython",
        "version": 3
      },
      "file_extension": ".py",
      "mimetype": "text/x-python",
      "name": "python",
      "nbconvert_exporter": "python",
      "pygments_lexer": "ipython3",
      "version": "3.10.10"
    },
    "colab": {
      "provenance": [],
      "include_colab_link": true
    }
  },
  "nbformat": 4,
  "nbformat_minor": 5
}