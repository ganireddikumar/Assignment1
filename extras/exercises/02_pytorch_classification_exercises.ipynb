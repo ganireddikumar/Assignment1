{
  "nbformat": 4,
  "nbformat_minor": 0,
  "metadata": {
    "colab": {
      "name": "02_pytorch_classification_exercises.ipynb",
      "provenance": [],
      "include_colab_link": true
    },
    "kernelspec": {
      "name": "python3",
      "display_name": "Python 3"
    },
    "language_info": {
      "name": "python"
    },
    "accelerator": "GPU"
  },
  "cells": [
    {
      "cell_type": "markdown",
      "metadata": {
        "id": "view-in-github",
        "colab_type": "text"
      },
      "source": [
        "<a href=\"https://colab.research.google.com/github/ganireddikumar/Assignment1/blob/main/extras/exercises/02_pytorch_classification_exercises.ipynb\" target=\"_parent\"><img src=\"https://colab.research.google.com/assets/colab-badge.svg\" alt=\"Open In Colab\"/></a>"
      ]
    },
    {
      "cell_type": "markdown",
      "source": [
        "# 02. PyTorch Classification Exercises\n",
        "\n",
        "The following is a template for 02. PyTorch Classification exercises.\n",
        "\n",
        "It's only starter code and it's your job to fill in the blanks.\n",
        "\n",
        "Because of the flexibility of PyTorch, there may be more than one way to answer the question.\n",
        "\n",
        "Don't worry about trying to be *right* just try writing code that suffices the question.\n",
        "\n",
        "## Resources\n",
        "* These exercises are based on [notebook 02 of the learn PyTorch course](https://www.learnpytorch.io/02_pytorch_classification/).\n",
        "* You can see one form of [solutions on GitHub](https://github.com/mrdbourke/pytorch-deep-learning/tree/main/extras/solutions) (but try the exercises below yourself first!)."
      ],
      "metadata": {
        "id": "ZKJFt7YxH8yl"
      }
    },
    {
      "cell_type": "code",
      "source": [
        "# Import torch\n",
        "import torch\n",
        "\n",
        "# Setup device agnostic code\n",
        "device =\"cuda\" if torch.cuda.is_available() else \"cpu\"\n",
        "\n",
        "# Setup random seed\n",
        "RANDOM_SEED = 42"
      ],
      "metadata": {
        "id": "CSrUPgapO0tf"
      },
      "execution_count": 1,
      "outputs": []
    },
    {
      "cell_type": "markdown",
      "source": [
        "## 1. Make a binary classification dataset with Scikit-Learn's [`make_moons()`](https://scikit-learn.org/stable/modules/generated/sklearn.datasets.make_moons.html) function.\n",
        "  * For consistency, the dataset should have 1000 samples and a `random_state=42`.\n",
        "  * Turn the data into PyTorch tensors.\n",
        "  * Split the data into training and test sets using `train_test_split` with 80% training and 20% testing."
      ],
      "metadata": {
        "id": "pH7jIZ2SPFee"
      }
    },
    {
      "cell_type": "code",
      "source": [
        "# Create a dataset with Scikit-Learn's make_moons()\n",
        "from sklearn.datasets import make_moons\n",
        "NUM_SAMPLES = 1000\n",
        "RANDOM_SEED = 42\n",
        "X , y = make_moons(n_samples = NUM_SAMPLES,\n",
        "                   noise = 0.07,\n",
        "                   random_state =RANDOM_SEED)\n",
        "\n",
        "X[:10,y[:10]]"
      ],
      "metadata": {
        "id": "5t4VhPV1PX1X",
        "colab": {
          "base_uri": "https://localhost:8080/"
        },
        "outputId": "07aea515-e09f-414a-9829-ab6b6bae487d"
      },
      "execution_count": 2,
      "outputs": [
        {
          "output_type": "execute_result",
          "data": {
            "text/plain": [
              "array([[ 0.4213911 ,  0.4213911 ,  0.4213911 ,  0.4213911 , -0.03341062,\n",
              "         0.4213911 ,  0.4213911 ,  0.4213911 ,  0.4213911 , -0.03341062],\n",
              "       [-0.4428903 , -0.4428903 , -0.4428903 , -0.4428903 ,  0.99882703,\n",
              "        -0.4428903 , -0.4428903 , -0.4428903 , -0.4428903 ,  0.99882703],\n",
              "       [-0.32784256, -0.32784256, -0.32784256, -0.32784256,  0.88959204,\n",
              "        -0.32784256, -0.32784256, -0.32784256, -0.32784256,  0.88959204],\n",
              "       [-0.41768975, -0.41768975, -0.41768975, -0.41768975,  0.34195829,\n",
              "        -0.41768975, -0.41768975, -0.41768975, -0.41768975,  0.34195829],\n",
              "       [ 0.53237483,  0.53237483,  0.53237483,  0.53237483, -0.83853099,\n",
              "         0.53237483,  0.53237483,  0.53237483,  0.53237483, -0.83853099],\n",
              "       [-0.28977331, -0.28977331, -0.28977331, -0.28977331,  0.59906425,\n",
              "        -0.28977331, -0.28977331, -0.28977331, -0.28977331,  0.59906425],\n",
              "       [-0.2046885 , -0.2046885 , -0.2046885 , -0.2046885 ,  0.29009023,\n",
              "        -0.2046885 , -0.2046885 , -0.2046885 , -0.2046885 ,  0.29009023],\n",
              "       [ 0.45942924,  0.45942924,  0.45942924,  0.45942924, -0.03826868,\n",
              "         0.45942924,  0.45942924,  0.45942924,  0.45942924, -0.03826868],\n",
              "       [-0.2939697 , -0.2939697 , -0.2939697 , -0.2939697 ,  1.61377123,\n",
              "        -0.2939697 , -0.2939697 , -0.2939697 , -0.2939697 ,  1.61377123],\n",
              "       [ 0.82781911,  0.82781911,  0.82781911,  0.82781911,  0.693337  ,\n",
              "         0.82781911,  0.82781911,  0.82781911,  0.82781911,  0.693337  ]])"
            ]
          },
          "metadata": {},
          "execution_count": 2
        }
      ]
    },
    {
      "cell_type": "code",
      "source": [
        "# Turn data into a DataFrame\n",
        "import pandas as pd\n",
        "df = pd.DataFrame({\"X1\":X[:,0],\n",
        "                   \"X2\":X[:,1],\n",
        "                   \"y\":y})"
      ],
      "metadata": {
        "id": "SUeHZ3-3P9C7"
      },
      "execution_count": 3,
      "outputs": []
    },
    {
      "cell_type": "code",
      "source": [
        "df.head()"
      ],
      "metadata": {
        "id": "oghRRwfOegKE",
        "outputId": "ce8ae7e6-bd68-48bf-f4c4-7da444d4c43d",
        "colab": {
          "base_uri": "https://localhost:8080/",
          "height": 206
        }
      },
      "execution_count": 4,
      "outputs": [
        {
          "output_type": "execute_result",
          "data": {
            "text/plain": [
              "         X1        X2  y\n",
              "0 -0.033411  0.421391  1\n",
              "1  0.998827 -0.442890  1\n",
              "2  0.889592 -0.327843  1\n",
              "3  0.341958 -0.417690  1\n",
              "4 -0.838531  0.532375  0"
            ],
            "text/html": [
              "\n",
              "  <div id=\"df-b09a2a21-8b28-4255-8321-dc6129e68ed4\" class=\"colab-df-container\">\n",
              "    <div>\n",
              "<style scoped>\n",
              "    .dataframe tbody tr th:only-of-type {\n",
              "        vertical-align: middle;\n",
              "    }\n",
              "\n",
              "    .dataframe tbody tr th {\n",
              "        vertical-align: top;\n",
              "    }\n",
              "\n",
              "    .dataframe thead th {\n",
              "        text-align: right;\n",
              "    }\n",
              "</style>\n",
              "<table border=\"1\" class=\"dataframe\">\n",
              "  <thead>\n",
              "    <tr style=\"text-align: right;\">\n",
              "      <th></th>\n",
              "      <th>X1</th>\n",
              "      <th>X2</th>\n",
              "      <th>y</th>\n",
              "    </tr>\n",
              "  </thead>\n",
              "  <tbody>\n",
              "    <tr>\n",
              "      <th>0</th>\n",
              "      <td>-0.033411</td>\n",
              "      <td>0.421391</td>\n",
              "      <td>1</td>\n",
              "    </tr>\n",
              "    <tr>\n",
              "      <th>1</th>\n",
              "      <td>0.998827</td>\n",
              "      <td>-0.442890</td>\n",
              "      <td>1</td>\n",
              "    </tr>\n",
              "    <tr>\n",
              "      <th>2</th>\n",
              "      <td>0.889592</td>\n",
              "      <td>-0.327843</td>\n",
              "      <td>1</td>\n",
              "    </tr>\n",
              "    <tr>\n",
              "      <th>3</th>\n",
              "      <td>0.341958</td>\n",
              "      <td>-0.417690</td>\n",
              "      <td>1</td>\n",
              "    </tr>\n",
              "    <tr>\n",
              "      <th>4</th>\n",
              "      <td>-0.838531</td>\n",
              "      <td>0.532375</td>\n",
              "      <td>0</td>\n",
              "    </tr>\n",
              "  </tbody>\n",
              "</table>\n",
              "</div>\n",
              "    <div class=\"colab-df-buttons\">\n",
              "\n",
              "  <div class=\"colab-df-container\">\n",
              "    <button class=\"colab-df-convert\" onclick=\"convertToInteractive('df-b09a2a21-8b28-4255-8321-dc6129e68ed4')\"\n",
              "            title=\"Convert this dataframe to an interactive table.\"\n",
              "            style=\"display:none;\">\n",
              "\n",
              "  <svg xmlns=\"http://www.w3.org/2000/svg\" height=\"24px\" viewBox=\"0 -960 960 960\">\n",
              "    <path d=\"M120-120v-720h720v720H120Zm60-500h600v-160H180v160Zm220 220h160v-160H400v160Zm0 220h160v-160H400v160ZM180-400h160v-160H180v160Zm440 0h160v-160H620v160ZM180-180h160v-160H180v160Zm440 0h160v-160H620v160Z\"/>\n",
              "  </svg>\n",
              "    </button>\n",
              "\n",
              "  <style>\n",
              "    .colab-df-container {\n",
              "      display:flex;\n",
              "      gap: 12px;\n",
              "    }\n",
              "\n",
              "    .colab-df-convert {\n",
              "      background-color: #E8F0FE;\n",
              "      border: none;\n",
              "      border-radius: 50%;\n",
              "      cursor: pointer;\n",
              "      display: none;\n",
              "      fill: #1967D2;\n",
              "      height: 32px;\n",
              "      padding: 0 0 0 0;\n",
              "      width: 32px;\n",
              "    }\n",
              "\n",
              "    .colab-df-convert:hover {\n",
              "      background-color: #E2EBFA;\n",
              "      box-shadow: 0px 1px 2px rgba(60, 64, 67, 0.3), 0px 1px 3px 1px rgba(60, 64, 67, 0.15);\n",
              "      fill: #174EA6;\n",
              "    }\n",
              "\n",
              "    .colab-df-buttons div {\n",
              "      margin-bottom: 4px;\n",
              "    }\n",
              "\n",
              "    [theme=dark] .colab-df-convert {\n",
              "      background-color: #3B4455;\n",
              "      fill: #D2E3FC;\n",
              "    }\n",
              "\n",
              "    [theme=dark] .colab-df-convert:hover {\n",
              "      background-color: #434B5C;\n",
              "      box-shadow: 0px 1px 3px 1px rgba(0, 0, 0, 0.15);\n",
              "      filter: drop-shadow(0px 1px 2px rgba(0, 0, 0, 0.3));\n",
              "      fill: #FFFFFF;\n",
              "    }\n",
              "  </style>\n",
              "\n",
              "    <script>\n",
              "      const buttonEl =\n",
              "        document.querySelector('#df-b09a2a21-8b28-4255-8321-dc6129e68ed4 button.colab-df-convert');\n",
              "      buttonEl.style.display =\n",
              "        google.colab.kernel.accessAllowed ? 'block' : 'none';\n",
              "\n",
              "      async function convertToInteractive(key) {\n",
              "        const element = document.querySelector('#df-b09a2a21-8b28-4255-8321-dc6129e68ed4');\n",
              "        const dataTable =\n",
              "          await google.colab.kernel.invokeFunction('convertToInteractive',\n",
              "                                                    [key], {});\n",
              "        if (!dataTable) return;\n",
              "\n",
              "        const docLinkHtml = 'Like what you see? Visit the ' +\n",
              "          '<a target=\"_blank\" href=https://colab.research.google.com/notebooks/data_table.ipynb>data table notebook</a>'\n",
              "          + ' to learn more about interactive tables.';\n",
              "        element.innerHTML = '';\n",
              "        dataTable['output_type'] = 'display_data';\n",
              "        await google.colab.output.renderOutput(dataTable, element);\n",
              "        const docLink = document.createElement('div');\n",
              "        docLink.innerHTML = docLinkHtml;\n",
              "        element.appendChild(docLink);\n",
              "      }\n",
              "    </script>\n",
              "  </div>\n",
              "\n",
              "\n",
              "<div id=\"df-e839bf79-7ea4-4376-9237-3d409844fe40\">\n",
              "  <button class=\"colab-df-quickchart\" onclick=\"quickchart('df-e839bf79-7ea4-4376-9237-3d409844fe40')\"\n",
              "            title=\"Suggest charts\"\n",
              "            style=\"display:none;\">\n",
              "\n",
              "<svg xmlns=\"http://www.w3.org/2000/svg\" height=\"24px\"viewBox=\"0 0 24 24\"\n",
              "     width=\"24px\">\n",
              "    <g>\n",
              "        <path d=\"M19 3H5c-1.1 0-2 .9-2 2v14c0 1.1.9 2 2 2h14c1.1 0 2-.9 2-2V5c0-1.1-.9-2-2-2zM9 17H7v-7h2v7zm4 0h-2V7h2v10zm4 0h-2v-4h2v4z\"/>\n",
              "    </g>\n",
              "</svg>\n",
              "  </button>\n",
              "\n",
              "<style>\n",
              "  .colab-df-quickchart {\n",
              "      --bg-color: #E8F0FE;\n",
              "      --fill-color: #1967D2;\n",
              "      --hover-bg-color: #E2EBFA;\n",
              "      --hover-fill-color: #174EA6;\n",
              "      --disabled-fill-color: #AAA;\n",
              "      --disabled-bg-color: #DDD;\n",
              "  }\n",
              "\n",
              "  [theme=dark] .colab-df-quickchart {\n",
              "      --bg-color: #3B4455;\n",
              "      --fill-color: #D2E3FC;\n",
              "      --hover-bg-color: #434B5C;\n",
              "      --hover-fill-color: #FFFFFF;\n",
              "      --disabled-bg-color: #3B4455;\n",
              "      --disabled-fill-color: #666;\n",
              "  }\n",
              "\n",
              "  .colab-df-quickchart {\n",
              "    background-color: var(--bg-color);\n",
              "    border: none;\n",
              "    border-radius: 50%;\n",
              "    cursor: pointer;\n",
              "    display: none;\n",
              "    fill: var(--fill-color);\n",
              "    height: 32px;\n",
              "    padding: 0;\n",
              "    width: 32px;\n",
              "  }\n",
              "\n",
              "  .colab-df-quickchart:hover {\n",
              "    background-color: var(--hover-bg-color);\n",
              "    box-shadow: 0 1px 2px rgba(60, 64, 67, 0.3), 0 1px 3px 1px rgba(60, 64, 67, 0.15);\n",
              "    fill: var(--button-hover-fill-color);\n",
              "  }\n",
              "\n",
              "  .colab-df-quickchart-complete:disabled,\n",
              "  .colab-df-quickchart-complete:disabled:hover {\n",
              "    background-color: var(--disabled-bg-color);\n",
              "    fill: var(--disabled-fill-color);\n",
              "    box-shadow: none;\n",
              "  }\n",
              "\n",
              "  .colab-df-spinner {\n",
              "    border: 2px solid var(--fill-color);\n",
              "    border-color: transparent;\n",
              "    border-bottom-color: var(--fill-color);\n",
              "    animation:\n",
              "      spin 1s steps(1) infinite;\n",
              "  }\n",
              "\n",
              "  @keyframes spin {\n",
              "    0% {\n",
              "      border-color: transparent;\n",
              "      border-bottom-color: var(--fill-color);\n",
              "      border-left-color: var(--fill-color);\n",
              "    }\n",
              "    20% {\n",
              "      border-color: transparent;\n",
              "      border-left-color: var(--fill-color);\n",
              "      border-top-color: var(--fill-color);\n",
              "    }\n",
              "    30% {\n",
              "      border-color: transparent;\n",
              "      border-left-color: var(--fill-color);\n",
              "      border-top-color: var(--fill-color);\n",
              "      border-right-color: var(--fill-color);\n",
              "    }\n",
              "    40% {\n",
              "      border-color: transparent;\n",
              "      border-right-color: var(--fill-color);\n",
              "      border-top-color: var(--fill-color);\n",
              "    }\n",
              "    60% {\n",
              "      border-color: transparent;\n",
              "      border-right-color: var(--fill-color);\n",
              "    }\n",
              "    80% {\n",
              "      border-color: transparent;\n",
              "      border-right-color: var(--fill-color);\n",
              "      border-bottom-color: var(--fill-color);\n",
              "    }\n",
              "    90% {\n",
              "      border-color: transparent;\n",
              "      border-bottom-color: var(--fill-color);\n",
              "    }\n",
              "  }\n",
              "</style>\n",
              "\n",
              "  <script>\n",
              "    async function quickchart(key) {\n",
              "      const quickchartButtonEl =\n",
              "        document.querySelector('#' + key + ' button');\n",
              "      quickchartButtonEl.disabled = true;  // To prevent multiple clicks.\n",
              "      quickchartButtonEl.classList.add('colab-df-spinner');\n",
              "      try {\n",
              "        const charts = await google.colab.kernel.invokeFunction(\n",
              "            'suggestCharts', [key], {});\n",
              "      } catch (error) {\n",
              "        console.error('Error during call to suggestCharts:', error);\n",
              "      }\n",
              "      quickchartButtonEl.classList.remove('colab-df-spinner');\n",
              "      quickchartButtonEl.classList.add('colab-df-quickchart-complete');\n",
              "    }\n",
              "    (() => {\n",
              "      let quickchartButtonEl =\n",
              "        document.querySelector('#df-e839bf79-7ea4-4376-9237-3d409844fe40 button');\n",
              "      quickchartButtonEl.style.display =\n",
              "        google.colab.kernel.accessAllowed ? 'block' : 'none';\n",
              "    })();\n",
              "  </script>\n",
              "</div>\n",
              "\n",
              "    </div>\n",
              "  </div>\n"
            ],
            "application/vnd.google.colaboratory.intrinsic+json": {
              "type": "dataframe",
              "variable_name": "df",
              "summary": "{\n  \"name\": \"df\",\n  \"rows\": 1000,\n  \"fields\": [\n    {\n      \"column\": \"X1\",\n      \"properties\": {\n        \"dtype\": \"number\",\n        \"std\": 0.8694818021016458,\n        \"min\": -1.1517146477802855,\n        \"max\": 2.1819758362649324,\n        \"num_unique_values\": 1000,\n        \"samples\": [\n          0.5424909907290043,\n          0.8410600562502046,\n          1.274536542513856\n        ],\n        \"semantic_type\": \"\",\n        \"description\": \"\"\n      }\n    },\n    {\n      \"column\": \"X2\",\n      \"properties\": {\n        \"dtype\": \"number\",\n        \"std\": 0.4984727335666475,\n        \"min\": -0.6690694860909892,\n        \"max\": 1.132945524956193,\n        \"num_unique_values\": 1000,\n        \"samples\": [\n          -0.39644452406089203,\n          0.6354459945668033,\n          -0.4373423036321222\n        ],\n        \"semantic_type\": \"\",\n        \"description\": \"\"\n      }\n    },\n    {\n      \"column\": \"y\",\n      \"properties\": {\n        \"dtype\": \"number\",\n        \"std\": 0,\n        \"min\": 0,\n        \"max\": 1,\n        \"num_unique_values\": 2,\n        \"samples\": [\n          0,\n          1\n        ],\n        \"semantic_type\": \"\",\n        \"description\": \"\"\n      }\n    }\n  ]\n}"
            }
          },
          "metadata": {},
          "execution_count": 4
        }
      ]
    },
    {
      "cell_type": "code",
      "source": [
        "# Visualize the data on a scatter plot\n",
        "import matplotlib.pyplot as plt\n",
        "plt.scatter(df.X1,df.X2,c=y,cmap=plt.cm.RdYlBu)"
      ],
      "metadata": {
        "id": "owrkPSFvQPFI",
        "colab": {
          "base_uri": "https://localhost:8080/",
          "height": 447
        },
        "outputId": "7de54953-9963-442c-d303-68027c1a010c"
      },
      "execution_count": 5,
      "outputs": [
        {
          "output_type": "execute_result",
          "data": {
            "text/plain": [
              "<matplotlib.collections.PathCollection at 0x7f0d97875b10>"
            ]
          },
          "metadata": {},
          "execution_count": 5
        },
        {
          "output_type": "display_data",
          "data": {
            "text/plain": [
              "<Figure size 640x480 with 1 Axes>"
            ],
            "image/png": "[encoded data removed]"
          },
          "metadata": {}
        }
      ]
    },
    {
      "cell_type": "code",
      "source": [
        "# Turn data into tensors of dtype float\n",
        "X = torch.tensor(X,dtype=torch.float)\n",
        "y = torch.tensor(y,dtype=torch.float)\n",
        "\n",
        "# Split the data into train and test sets (80% train, 20% test)\n",
        "from sklearn.model_selection import train_test_split\n",
        "X_train, X_test,y_train,y_test = train_test_split(X,y,test_size=0.2,random_state=RANDOM_SEED)\n",
        "\n",
        "len(X_train),len(X_test),len(y_train),len(y_test)"
      ],
      "metadata": {
        "id": "bDhyHn9fR4dq",
        "colab": {
          "base_uri": "https://localhost:8080/"
        },
        "outputId": "78cd73d5-c2a3-45d0-8121-ebd584469e1f"
      },
      "execution_count": 6,
      "outputs": [
        {
          "output_type": "execute_result",
          "data": {
            "text/plain": [
              "(800, 200, 800, 200)"
            ]
          },
          "metadata": {},
          "execution_count": 6
        }
      ]
    },
    {
      "cell_type": "markdown",
      "source": [
        "## 2. Build a model by subclassing `nn.Module` that incorporates non-linear activation functions and is capable of fitting the data you created in 1.\n",
        "  * Feel free to use any combination of PyTorch layers (linear and non-linear) you want."
      ],
      "metadata": {
        "id": "cMIjxZdzQfPz"
      }
    },
    {
      "cell_type": "code",
      "source": [
        "import torch\n",
        "from torch import nn\n",
        "\n",
        "# Inherit from nn.Module to make a model capable of fitting the mooon data\n",
        "class MoonModelV0(nn.Module):\n",
        "    ## Your code here ##\n",
        "    def __init__(self,in_features,out_features,hidden_units):\n",
        "      super().__init__()\n",
        "      self.linear_stack = nn.Sequential(\n",
        "          nn.Linear(in_features=in_features,out_features=hidden_units),\n",
        "          nn.Linear(in_features=hidden_units,out_features=hidden_units),\n",
        "          nn.Linear(in_features=hidden_units,out_features=out_features),\n",
        "          nn.ReLU()\n",
        "          )\n",
        "\n",
        "\n",
        "    def forward(self, x):\n",
        "        ## Your code here ##\n",
        "        return self.linear_stack(x)\n",
        "\n",
        "# Instantiate the model\n",
        "## Your code here ##\n",
        "model = MoonModelV0(in_features=2,\n",
        "                    out_features=1,\n",
        "                    hidden_units=128).to(device)\n",
        "model"
      ],
      "metadata": {
        "id": "hwtyvm34Ri6Q",
        "colab": {
          "base_uri": "https://localhost:8080/"
        },
        "outputId": "78051b49-1253-4b71-d3f6-2c917a8aa34e"
      },
      "execution_count": 20,
      "outputs": [
        {
          "output_type": "execute_result",
          "data": {
            "text/plain": [
              "MoonModelV0(\n",
              "  (linear_stack): Sequential(\n",
              "    (0): Linear(in_features=2, out_features=128, bias=True)\n",
              "    (1): Linear(in_features=128, out_features=128, bias=True)\n",
              "    (2): Linear(in_features=128, out_features=1, bias=True)\n",
              "    (3): ReLU()\n",
              "  )\n",
              ")"
            ]
          },
          "metadata": {},
          "execution_count": 20
        }
      ]
    },
    {
      "cell_type": "code",
      "source": [
        "model.state_dict()"
      ],
      "metadata": {
        "id": "ppq0XrF-jV3_",
        "outputId": "b508a03d-aa1a-48b4-f3f8-c5cb347dc103",
        "colab": {
          "base_uri": "https://localhost:8080/"
        }
      },
      "execution_count": 21,
      "outputs": [
        {
          "output_type": "execute_result",
          "data": {
            "text/plain": [
              "OrderedDict([('linear_stack.0.weight',\n",
              "              tensor([[ 0.2810, -0.3302],\n",
              "                      [-0.0280, -0.4570],\n",
              "                      [-0.2279,  0.2849],\n",
              "                      [-0.5226, -0.3868],\n",
              "                      [-0.0356,  0.0485],\n",
              "                      [-0.0193,  0.2820],\n",
              "                      [ 0.6897, -0.6809],\n",
              "                      [ 0.1205,  0.3095],\n",
              "                      [-0.6902, -0.0476],\n",
              "                      [ 0.3292,  0.1783],\n",
              "                      [ 0.5865,  0.6911],\n",
              "                      [ 0.2249,  0.0854],\n",
              "                      [-0.4126,  0.0097],\n",
              "                      [-0.1820,  0.6475],\n",
              "                      [ 0.4541,  0.3772],\n",
              "                      [-0.2387,  0.4728],\n",
              "                      [ 0.1315, -0.2140],\n",
              "                      [ 0.4615, -0.0498],\n",
              "                      [-0.5261,  0.6539],\n",
              "                      [ 0.4524,  0.2921],\n",
              "                      [-0.1140,  0.1555],\n",
              "                      [ 0.2922,  0.0781],\n",
              "                      [ 0.1144,  0.2426],\n",
              "                      [ 0.5550,  0.6841],\n",
              "                      [ 0.3864,  0.4345],\n",
              "                      [ 0.2301, -0.3852],\n",
              "                      [ 0.1399, -0.5349],\n",
              "                      [-0.0362, -0.3164],\n",
              "                      [-0.1623, -0.5702],\n",
              "                      [ 0.6226,  0.1186],\n",
              "                      [ 0.2051, -0.3924],\n",
              "                      [ 0.5559, -0.0267],\n",
              "                      [-0.2204,  0.5308],\n",
              "                      [ 0.1953, -0.5120],\n",
              "                      [-0.4852,  0.5348],\n",
              "                      [ 0.0402,  0.2632],\n",
              "                      [ 0.1364, -0.0619],\n",
              "                      [-0.0962,  0.2033],\n",
              "                      [-0.0588,  0.0135],\n",
              "                      [-0.0104, -0.4386],\n",
              "                      [ 0.5079, -0.5399],\n",
              "                      [ 0.2677, -0.0677],\n",
              "                      [ 0.1090, -0.7065],\n",
              "                      [-0.4797, -0.0327],\n",
              "                      [ 0.2076,  0.6787],\n",
              "                      [ 0.6603, -0.6420],\n",
              "                      [-0.6757, -0.5306],\n",
              "                      [ 0.3548, -0.0959],\n",
              "                      [ 0.6391, -0.7032],\n",
              "                      [-0.5291, -0.2871],\n",
              "                      [ 0.1518,  0.0633],\n",
              "                      [-0.1043,  0.5041],\n",
              "                      [-0.6162,  0.0803],\n",
              "                      [-0.0713,  0.4667],\n",
              "                      [-0.1542,  0.2863],\n",
              "                      [-0.3513,  0.0026],\n",
              "                      [-0.4402, -0.3563],\n",
              "                      [ 0.4895,  0.0640],\n",
              "                      [-0.1258, -0.0118],\n",
              "                      [ 0.1182, -0.5019],\n",
              "                      [-0.4616, -0.2787],\n",
              "                      [-0.5755, -0.6748],\n",
              "                      [-0.1187,  0.4942],\n",
              "                      [ 0.1765, -0.0859],\n",
              "                      [-0.6968, -0.3822],\n",
              "                      [-0.0761,  0.1382],\n",
              "                      [-0.6520, -0.1235],\n",
              "                      [-0.0954,  0.1272],\n",
              "                      [ 0.0823, -0.5731],\n",
              "                      [ 0.3343, -0.0443],\n",
              "                      [-0.1568,  0.6104],\n",
              "                      [ 0.6107,  0.3329],\n",
              "                      [-0.0438, -0.1111],\n",
              "                      [-0.3498,  0.5219],\n",
              "                      [ 0.4352,  0.6949],\n",
              "                      [-0.1392,  0.3142],\n",
              "                      [-0.4172, -0.1865],\n",
              "                      [ 0.5543,  0.6337],\n",
              "                      [ 0.0681,  0.0501],\n",
              "                      [-0.1167, -0.2362],\n",
              "                      [-0.3404,  0.5177],\n",
              "                      [ 0.3244,  0.3593],\n",
              "                      [ 0.4176, -0.3586],\n",
              "                      [ 0.5847,  0.1713],\n",
              "                      [-0.3189, -0.0823],\n",
              "                      [-0.1331, -0.4916],\n",
              "                      [ 0.5044, -0.3366],\n",
              "                      [ 0.3721, -0.3754],\n",
              "                      [ 0.2856,  0.1379],\n",
              "                      [ 0.4286, -0.2084],\n",
              "                      [ 0.2820,  0.5497],\n",
              "                      [-0.0262,  0.5999],\n",
              "                      [-0.5608, -0.4035],\n",
              "                      [ 0.6288, -0.0827],\n",
              "                      [ 0.6215,  0.4226],\n",
              "                      [ 0.0316, -0.1663],\n",
              "                      [ 0.2030,  0.4752],\n",
              "                      [-0.6975, -0.1192],\n",
              "                      [ 0.3478, -0.6876],\n",
              "                      [-0.6446, -0.4774],\n",
              "                      [ 0.1109,  0.4050],\n",
              "                      [-0.5684, -0.6220],\n",
              "                      [-0.0177, -0.2509],\n",
              "                      [-0.6819, -0.1047],\n",
              "                      [-0.0557,  0.0956],\n",
              "                      [-0.0021,  0.3779],\n",
              "                      [-0.6437,  0.6330],\n",
              "                      [ 0.4693, -0.1924],\n",
              "                      [ 0.1121, -0.1198],\n",
              "                      [ 0.2287,  0.5273],\n",
              "                      [-0.7028,  0.2475],\n",
              "                      [-0.6500,  0.4651],\n",
              "                      [ 0.4064, -0.1235],\n",
              "                      [-0.3946, -0.4837],\n",
              "                      [ 0.0888,  0.2692],\n",
              "                      [-0.3274,  0.3291],\n",
              "                      [ 0.0972,  0.3610],\n",
              "                      [ 0.1341,  0.0768],\n",
              "                      [ 0.0082, -0.3856],\n",
              "                      [ 0.2555,  0.2391],\n",
              "                      [-0.1840,  0.4818],\n",
              "                      [-0.6445,  0.5151],\n",
              "                      [ 0.5371,  0.5258],\n",
              "                      [ 0.6513,  0.1436],\n",
              "                      [-0.4308, -0.6031],\n",
              "                      [ 0.1883,  0.2684],\n",
              "                      [ 0.4852, -0.1863],\n",
              "                      [ 0.4624, -0.3586]], device='cuda:0')),\n",
              "             ('linear_stack.0.bias',\n",
              "              tensor([ 0.3170, -0.1521,  0.1725,  0.3830,  0.5504,  0.0488,  0.3636, -0.0290,\n",
              "                       0.5306, -0.2659, -0.3816, -0.6190,  0.1597,  0.0803,  0.6243,  0.2292,\n",
              "                       0.0571, -0.0138,  0.2518,  0.0938,  0.3833, -0.1547, -0.2070, -0.6934,\n",
              "                      -0.1051, -0.6949, -0.1293, -0.5821, -0.6230,  0.6753,  0.5976, -0.0100,\n",
              "                      -0.1717,  0.6973,  0.2053,  0.3606,  0.2269,  0.5525, -0.5968, -0.5492,\n",
              "                       0.2771, -0.4854,  0.2143,  0.4358,  0.1406, -0.4745, -0.6112, -0.2609,\n",
              "                       0.3491, -0.7003,  0.1129,  0.3684,  0.1094, -0.5382, -0.4277,  0.1008,\n",
              "                       0.6122, -0.1796,  0.4300, -0.5859,  0.4754,  0.5608, -0.2404, -0.1065,\n",
              "                      -0.2762,  0.5179,  0.4732,  0.3989, -0.6859, -0.6848,  0.4175,  0.5226,\n",
              "                       0.2814,  0.4140,  0.4073,  0.3478,  0.5751,  0.5140, -0.5299, -0.6044,\n",
              "                       0.2630, -0.6560,  0.4646, -0.2996,  0.5148, -0.2870,  0.1236,  0.3435,\n",
              "                       0.4189,  0.6207, -0.2342,  0.6208, -0.5257,  0.2101,  0.6210,  0.6568,\n",
              "                      -0.0151,  0.0529, -0.2770,  0.0445,  0.3449,  0.3228, -0.5908,  0.5112,\n",
              "                       0.3957,  0.1529,  0.6547,  0.7065, -0.1828, -0.5839, -0.7063,  0.3008,\n",
              "                       0.0472, -0.6161, -0.0414, -0.1008,  0.0367,  0.2097, -0.1740, -0.3788,\n",
              "                      -0.4111,  0.2269, -0.6803,  0.4796,  0.4027,  0.6494, -0.2586, -0.2201],\n",
              "                     device='cuda:0')),\n",
              "             ('linear_stack.1.weight',\n",
              "              tensor([[ 0.0465,  0.0103,  0.0673,  ...,  0.0065, -0.0724,  0.0806],\n",
              "                      [ 0.0677,  0.0217, -0.0579,  ..., -0.0713, -0.0829,  0.0682],\n",
              "                      [ 0.0544,  0.0726, -0.0006,  ..., -0.0125,  0.0777, -0.0873],\n",
              "                      ...,\n",
              "                      [ 0.0224,  0.0749, -0.0221,  ...,  0.0622, -0.0720, -0.0194],\n",
              "                      [-0.0601,  0.0498, -0.0323,  ..., -0.0225, -0.0781, -0.0819],\n",
              "                      [-0.0842, -0.0692, -0.0702,  ...,  0.0532, -0.0255,  0.0715]],\n",
              "                     device='cuda:0')),\n",
              "             ('linear_stack.1.bias',\n",
              "              tensor([ 0.0045,  0.0539,  0.0337,  0.0437, -0.0516, -0.0183,  0.0130, -0.0624,\n",
              "                      -0.0334,  0.0869, -0.0090,  0.0756,  0.0867,  0.0460,  0.0794,  0.0359,\n",
              "                      -0.0039,  0.0236,  0.0627,  0.0681, -0.0674,  0.0257,  0.0345,  0.0395,\n",
              "                       0.0762,  0.0553, -0.0025, -0.0142, -0.0772, -0.0845,  0.0359,  0.0195,\n",
              "                       0.0255, -0.0027, -0.0501,  0.0042,  0.0481,  0.0071, -0.0007,  0.0678,\n",
              "                      -0.0182, -0.0763, -0.0634, -0.0061, -0.0313, -0.0146, -0.0187,  0.0439,\n",
              "                      -0.0421, -0.0260, -0.0508, -0.0516,  0.0127, -0.0202,  0.0536,  0.0303,\n",
              "                      -0.0826,  0.0631, -0.0515, -0.0213,  0.0146,  0.0459, -0.0506, -0.0866,\n",
              "                      -0.0235,  0.0435,  0.0457,  0.0443,  0.0425,  0.0378,  0.0416, -0.0639,\n",
              "                       0.0118,  0.0493,  0.0128, -0.0273, -0.0377,  0.0816, -0.0303,  0.0738,\n",
              "                       0.0877, -0.0283, -0.0404, -0.0692, -0.0712,  0.0770, -0.0870, -0.0137,\n",
              "                      -0.0765, -0.0633,  0.0285, -0.0364,  0.0728, -0.0304,  0.0818, -0.0217,\n",
              "                      -0.0121, -0.0366, -0.0358,  0.0802,  0.0334, -0.0146, -0.0024,  0.0170,\n",
              "                      -0.0054, -0.0612,  0.0861,  0.0416, -0.0256,  0.0576,  0.0174,  0.0362,\n",
              "                       0.0758, -0.0684, -0.0359, -0.0793,  0.0550,  0.0447, -0.0612, -0.0814,\n",
              "                       0.0563, -0.0113, -0.0455, -0.0597,  0.0847, -0.0785, -0.0076,  0.0620],\n",
              "                     device='cuda:0')),\n",
              "             ('linear_stack.2.weight',\n",
              "              tensor([[ 0.0267,  0.0426,  0.0307, -0.0817,  0.0779, -0.0053, -0.0352, -0.0321,\n",
              "                        0.0190, -0.0592,  0.0314, -0.0587,  0.0818, -0.0126, -0.0800, -0.0437,\n",
              "                        0.0128,  0.0535,  0.0699, -0.0703, -0.0817,  0.0770, -0.0875,  0.0707,\n",
              "                       -0.0772, -0.0755, -0.0713, -0.0720,  0.0039, -0.0473,  0.0739, -0.0213,\n",
              "                       -0.0237, -0.0384, -0.0847, -0.0402, -0.0359, -0.0612,  0.0750, -0.0188,\n",
              "                       -0.0854, -0.0094,  0.0252,  0.0816,  0.0810,  0.0301, -0.0234, -0.0061,\n",
              "                        0.0597, -0.0443, -0.0538,  0.0812,  0.0656, -0.0130, -0.0305,  0.0003,\n",
              "                        0.0219,  0.0761,  0.0284,  0.0460,  0.0272,  0.0413, -0.0494, -0.0634,\n",
              "                       -0.0088,  0.0504,  0.0818,  0.0698, -0.0208, -0.0324,  0.0503,  0.0856,\n",
              "                       -0.0337, -0.0252,  0.0667,  0.0790,  0.0455, -0.0843,  0.0621, -0.0154,\n",
              "                       -0.0590,  0.0412, -0.0062, -0.0458, -0.0245, -0.0745, -0.0130, -0.0564,\n",
              "                       -0.0057,  0.0232,  0.0576,  0.0644, -0.0562, -0.0281,  0.0860, -0.0863,\n",
              "                       -0.0242, -0.0585,  0.0274,  0.0226,  0.0459,  0.0188, -0.0812, -0.0608,\n",
              "                       -0.0128, -0.0254, -0.0209, -0.0573,  0.0067, -0.0026, -0.0245,  0.0764,\n",
              "                       -0.0235,  0.0589,  0.0557,  0.0216,  0.0092, -0.0880, -0.0693,  0.0481,\n",
              "                        0.0423, -0.0419, -0.0181, -0.0563,  0.0372, -0.0284,  0.0642,  0.0136]],\n",
              "                     device='cuda:0')),\n",
              "             ('linear_stack.2.bias', tensor([0.0231], device='cuda:0'))])"
            ]
          },
          "metadata": {},
          "execution_count": 21
        }
      ]
    },
    {
      "cell_type": "markdown",
      "source": [
        "## 3. Setup a binary classification compatible loss function and optimizer to use when training the model built in 2."
      ],
      "metadata": {
        "id": "DSj97RwyVeFE"
      }
    },
    {
      "cell_type": "code",
      "source": [
        "# Setup loss function\n",
        "loss_fn = nn.BCEWithLogitsLoss()\n",
        "# Setup optimizer to optimize model's parameters\n",
        "optimizer = torch.optim.SGD(params =model.parameters(),\n",
        "                            lr = 0.1)"
      ],
      "metadata": {
        "id": "whSGw5qgVvxU"
      },
      "execution_count": 22,
      "outputs": []
    },
    {
      "cell_type": "markdown",
      "source": [
        "## 4. Create a training and testing loop to fit the model you created in 2 to the data you created in 1.\n",
        "  * Do a forward pass of the model to see what's coming out in the form of logits, prediction probabilities and labels.\n",
        "  * To measure model accuray, you can create your own accuracy function or use the accuracy function in [TorchMetrics](https://torchmetrics.readthedocs.io/en/latest/).\n",
        "  * Train the model for long enough for it to reach over 96% accuracy.\n",
        "  * The training loop should output progress every 10 epochs of the model's training and test set loss and accuracy."
      ],
      "metadata": {
        "id": "nvk4PfNTWUAt"
      }
    },
    {
      "cell_type": "code",
      "source": [
        "# What's coming out of our model?\n",
        "\n",
        "# logits (raw outputs of model)\n",
        "print(\"Logits:\")\n",
        "## Your code here ##\n",
        "print(model(X_train.to(device)[:10].squeeze()))\n",
        "# Prediction probabilities\n",
        "print(\"Pred probs:\")\n",
        "## Your code here ##\n",
        "print(torch.sigmoid(model(X_train.to(device)[:10].squeeze())))\n",
        "\n",
        "# Prediction labels\n",
        "print(\"Pred labels:\")\n",
        "## Your code here ##\n",
        "print(torch.round(torch.sigmoid(model(X_train.to(device)[:10].squeeze()))))\n"
      ],
      "metadata": {
        "colab": {
          "base_uri": "https://localhost:8080/"
        },
        "id": "AgnFdlamd2-D",
        "outputId": "c7ff30fb-9d3a-4813-ad7e-bba3c121b222"
      },
      "execution_count": 24,
      "outputs": [
        {
          "output_type": "stream",
          "name": "stdout",
          "text": [
            "Logits:\n",
            "tensor([[0.0246],\n",
            "        [0.0825],\n",
            "        [0.0809],\n",
            "        [0.0789],\n",
            "        [0.0431],\n",
            "        [0.0795],\n",
            "        [0.0373],\n",
            "        [0.0535],\n",
            "        [0.0658],\n",
            "        [0.0759]], device='cuda:0', grad_fn=<ReluBackward0>)\n",
            "Pred probs:\n",
            "tensor([[0.5061],\n",
            "        [0.5206],\n",
            "        [0.5202],\n",
            "        [0.5197],\n",
            "        [0.5108],\n",
            "        [0.5199],\n",
            "        [0.5093],\n",
            "        [0.5134],\n",
            "        [0.5164],\n",
            "        [0.5190]], device='cuda:0', grad_fn=<SigmoidBackward0>)\n",
            "Pred labels:\n",
            "tensor([[1.],\n",
            "        [1.],\n",
            "        [1.],\n",
            "        [1.],\n",
            "        [1.],\n",
            "        [1.],\n",
            "        [1.],\n",
            "        [1.],\n",
            "        [1.],\n",
            "        [1.]], device='cuda:0', grad_fn=<RoundBackward0>)\n"
          ]
        }
      ]
    },
    {
      "cell_type": "code",
      "source": [
        "# Let's calculuate the accuracy using accuracy from TorchMetrics\n",
        "!pip -q install torchmetrics # Colab doesn't come with torchmetrics\n",
        "from torchmetrics import Accuracy\n",
        "\n",
        "## TODO: Uncomment this code to use the Accuracy function\n",
        "acc_fn = Accuracy(task=\"multiclass\", num_classes=2).to(device) # send accuracy function to device\n",
        "acc_fn"
      ],
      "metadata": {
        "id": "rUSDNHB4euoJ",
        "colab": {
          "base_uri": "https://localhost:8080/"
        },
        "outputId": "229f14e7-30b8-4980-d7cc-fa3b6cdff37b"
      },
      "execution_count": 25,
      "outputs": [
        {
          "output_type": "stream",
          "name": "stdout",
          "text": [
            "\u001b[?25l   \u001b[90m━━━━━━━━━━━━━━━━━━━━━━━━━━━━━━━━━━━━━━━━\u001b[0m \u001b[32m0.0/926.4 kB\u001b[0m \u001b[31m?\u001b[0m eta \u001b[36m-:--:--\u001b[0m\r\u001b[2K   \u001b[91m━━━━━━━━━━━━━━━━━━━━━━━━━━━━━━━━━━━━━━━\u001b[0m\u001b[91m╸\u001b[0m \u001b[32m921.6/926.4 kB\u001b[0m \u001b[31m30.8 MB/s\u001b[0m eta \u001b[36m0:00:01\u001b[0m\r\u001b[2K   \u001b[90m━━━━━━━━━━━━━━━━━━━━━━━━━━━━━━━━━━━━━━━━\u001b[0m \u001b[32m926.4/926.4 kB\u001b[0m \u001b[31m20.6 MB/s\u001b[0m eta \u001b[36m0:00:00\u001b[0m\n",
            "\u001b[?25h"
          ]
        },
        {
          "output_type": "execute_result",
          "data": {
            "text/plain": [
              "MulticlassAccuracy()"
            ]
          },
          "metadata": {},
          "execution_count": 25
        }
      ]
    },
    {
      "cell_type": "code",
      "source": [
        "## TODO: Uncomment this to set the seed\n",
        "torch.manual_seed(RANDOM_SEED)\n",
        "\n",
        "# Setup epochs\n",
        "epochs =1000\n",
        "\n",
        "# Send data to the device\n",
        "\n",
        "X_train, X_test,y_train,y_test =X_train.to(device), X_test.to(device),y_train.to(device),y_test.to(device)\n",
        "# Loop through the data\n",
        "for epoch in range(epochs):\n",
        "  ### Training\n",
        "  model.train()\n",
        "\n",
        "  # 1. Forward pass (logits output)\n",
        "\n",
        "  # Turn logits into prediction probabilities\n",
        "  y_logits = model.train(X_train).squeeze()\n",
        "\n",
        "  # Turn prediction probabilities into prediction labels\n",
        "  y_pred_probs = torch.sigmoid(y_logits)\n",
        "  y_pred = torch.round(y_pred_probs)\n",
        "\n",
        "  # 2. Calculaute the loss\n",
        "  loss = loss_fn(y_logits, y_train) # loss = compare model raw outputs to desired model outputs\n",
        "\n",
        "  # Calculate the accuracy\n",
        "  acc = acc_fn(y_pred, y_train.int()) # the accuracy function needs to compare pred labels (not logits) with actual labels\n",
        "\n",
        "  # 3. Zero the gradients\n",
        "\n",
        "\n",
        "  # 4. Loss backward (perform backpropagation) - https://brilliant.org/wiki/backpropagation/#:~:text=Backpropagation%2C%20short%20for%20%22backward%20propagation,to%20the%20neural%20network's%20weights.\n",
        "\n",
        "  # 5. Step the optimizer (gradient descent) - https://towardsdatascience.com/gradient-descent-algorithm-a-deep-dive-cf04e8115f21#:~:text=Gradient%20descent%20(GD)%20is%20an,e.g.%20in%20a%20linear%20regression)\n",
        "\n",
        "\n",
        "  ### Testing\n",
        "  # model_0.eval()\n",
        "  # with torch.inference_mode():\n",
        "    # 1. Forward pass (to get the logits)\n",
        "\n",
        "    # Turn the test logits into prediction labels\n",
        "\n",
        "\n",
        "    # 2. Caculate the test loss/acc\n",
        "\n",
        "\n",
        "  # Print out what's happening every 100 epochs\n",
        "  # if epoch % 100 == 0:\n",
        ""
      ],
      "metadata": {
        "id": "SHBY3h7XXnxt"
      },
      "execution_count": null,
      "outputs": []
    },
    {
      "cell_type": "markdown",
      "source": [
        "## 5. Make predictions with your trained model and plot them using the `plot_decision_boundary()` function created in this notebook."
      ],
      "metadata": {
        "id": "8Nwihtomj9JO"
      }
    },
    {
      "cell_type": "code",
      "source": [
        "# Plot the model predictions\n",
        "import numpy as np\n",
        "\n",
        "def plot_decision_boundary(model, X, y):\n",
        "\n",
        "    # Put everything to CPU (works better with NumPy + Matplotlib)\n",
        "    model.to(\"cpu\")\n",
        "    X, y = X.to(\"cpu\"), y.to(\"cpu\")\n",
        "\n",
        "    # Source - https://madewithml.com/courses/foundations/neural-networks/\n",
        "    # (with modifications)\n",
        "    x_min, x_max = X[:, 0].min() - 0.1, X[:, 0].max() + 0.1\n",
        "    y_min, y_max = X[:, 1].min() - 0.1, X[:, 1].max() + 0.1\n",
        "    xx, yy = np.meshgrid(np.linspace(x_min, x_max, 101),\n",
        "                         np.linspace(y_min, y_max, 101))\n",
        "\n",
        "    # Make features\n",
        "    X_to_pred_on = torch.from_numpy(np.column_stack((xx.ravel(), yy.ravel()))).float()\n",
        "\n",
        "    # Make predictions\n",
        "    model.eval()\n",
        "    with torch.inference_mode():\n",
        "        y_logits = model(X_to_pred_on)\n",
        "\n",
        "    # Test for multi-class or binary and adjust logits to prediction labels\n",
        "    if len(torch.unique(y)) > 2:\n",
        "        y_pred = torch.softmax(y_logits, dim=1).argmax(dim=1) # mutli-class\n",
        "    else:\n",
        "        y_pred = torch.round(torch.sigmoid(y_logits)) # binary\n",
        "\n",
        "    # Reshape preds and plot\n",
        "    y_pred = y_pred.reshape(xx.shape).detach().numpy()\n",
        "    plt.contourf(xx, yy, y_pred, cmap=plt.cm.RdYlBu, alpha=0.7)\n",
        "    plt.scatter(X[:, 0], X[:, 1], c=y, s=40, cmap=plt.cm.RdYlBu)\n",
        "    plt.xlim(xx.min(), xx.max())\n",
        "    plt.ylim(yy.min(), yy.max())"
      ],
      "metadata": {
        "id": "0YRzatb8a1P2"
      },
      "execution_count": null,
      "outputs": []
    },
    {
      "cell_type": "code",
      "source": [
        "# Plot decision boundaries for training and test sets\n"
      ],
      "metadata": {
        "id": "PMrcpyirig1d"
      },
      "execution_count": null,
      "outputs": []
    },
    {
      "cell_type": "markdown",
      "source": [
        "## 6. Replicate the Tanh (hyperbolic tangent) activation function in pure PyTorch.\n",
        "  * Feel free to reference the [ML cheatsheet website](https://ml-cheatsheet.readthedocs.io/en/latest/activation_functions.html#tanh) for the formula."
      ],
      "metadata": {
        "id": "EtMYBvtciiAU"
      }
    },
    {
      "cell_type": "code",
      "source": [
        "# Create a straight line tensor\n"
      ],
      "metadata": {
        "id": "BlXaWC5TkEUE"
      },
      "execution_count": null,
      "outputs": []
    },
    {
      "cell_type": "code",
      "source": [
        "# Test torch.tanh() on the tensor and plot it\n"
      ],
      "metadata": {
        "id": "vZPCcQmIkZjO"
      },
      "execution_count": null,
      "outputs": []
    },
    {
      "cell_type": "code",
      "source": [
        "# Replicate torch.tanh() and plot it\n"
      ],
      "metadata": {
        "id": "J-ne__Kjkdc1"
      },
      "execution_count": null,
      "outputs": []
    },
    {
      "cell_type": "markdown",
      "source": [
        "## 7. Create a multi-class dataset using the [spirals data creation function from CS231n](https://cs231n.github.io/neural-networks-case-study/) (see below for the code).\n",
        "  * Split the data into training and test sets (80% train, 20% test) as well as turn it into PyTorch tensors.\n",
        "  * Construct a model capable of fitting the data (you may need a combination of linear and non-linear layers).\n",
        "  * Build a loss function and optimizer capable of handling multi-class data (optional extension: use the Adam optimizer instead of SGD, you may have to experiment with different values of the learning rate to get it working).\n",
        "  * Make a training and testing loop for the multi-class data and train a model on it to reach over 95% testing accuracy (you can use any accuracy measuring function here that you like) - 1000 epochs should be plenty.\n",
        "  * Plot the decision boundaries on the spirals dataset from your model predictions, the `plot_decision_boundary()` function should work for this dataset too."
      ],
      "metadata": {
        "id": "Lbt1bNcWk5G9"
      }
    },
    {
      "cell_type": "code",
      "source": [
        "# Code for creating a spiral dataset from CS231n\n",
        "import numpy as np\n",
        "import matplotlib.pyplot as plt\n",
        "RANDOM_SEED = 42\n",
        "np.random.seed(RANDOM_SEED)\n",
        "N = 100 # number of points per class\n",
        "D = 2 # dimensionality\n",
        "K = 3 # number of classes\n",
        "X = np.zeros((N*K,D)) # data matrix (each row = single example)\n",
        "y = np.zeros(N*K, dtype='uint8') # class labels\n",
        "for j in range(K):\n",
        "  ix = range(N*j,N*(j+1))\n",
        "  r = np.linspace(0.0,1,N) # radius\n",
        "  t = np.linspace(j*4,(j+1)*4,N) + np.random.randn(N)*0.2 # theta\n",
        "  X[ix] = np.c_[r*np.sin(t), r*np.cos(t)]\n",
        "  y[ix] = j\n",
        "# lets visualize the data\n",
        "plt.scatter(X[:, 0], X[:, 1], c=y, s=40, cmap=plt.cm.RdYlBu)\n",
        "plt.show()"
      ],
      "metadata": {
        "colab": {
          "base_uri": "https://localhost:8080/",
          "height": 265
        },
        "id": "tU-UNZsKlJls",
        "outputId": "8b7b745a-070d-4ecb-c639-c4ee4d8eae06"
      },
      "execution_count": null,
      "outputs": [
        {
          "output_type": "display_data",
          "data": {
            "image/png": "[encoded data removed]",
            "text/plain": [
              "<Figure size 432x288 with 1 Axes>"
            ]
          },
          "metadata": {
            "needs_background": "light"
          }
        }
      ]
    },
    {
      "cell_type": "code",
      "source": [
        "# Turn data into tensors\n",
        "import torch\n",
        "X = torch.from_numpy(X).type(torch.float) # features as float32\n",
        "y = torch.from_numpy(y).type(torch.LongTensor) # labels need to be of type long\n",
        "\n",
        "# Create train and test splits\n",
        "from sklearn.model_selection import train_test_split\n"
      ],
      "metadata": {
        "id": "OWVrmkEyl0VP"
      },
      "execution_count": null,
      "outputs": []
    },
    {
      "cell_type": "code",
      "source": [
        "# Let's calculuate the accuracy for when we fit our model\n",
        "!pip -q install torchmetrics # colab doesn't come with torchmetrics\n",
        "from torchmetrics import Accuracy\n",
        "\n",
        "## TODO: uncomment the two lines below to send the accuracy function to the device\n",
        "# acc_fn = Accuracy(task=\"multiclass\", num_classes=4).to(device)\n",
        "# acc_fn"
      ],
      "metadata": {
        "id": "a-v-7f0op0tG"
      },
      "execution_count": null,
      "outputs": []
    },
    {
      "cell_type": "code",
      "source": [
        "# Prepare device agnostic code\n",
        "# device = \"cuda\" if torch.cuda.is_available() else \"cpu\"\n",
        "\n",
        "# Create model by subclassing nn.Module\n",
        "\n",
        "\n",
        "\n",
        "# Instantiate model and send it to device\n"
      ],
      "metadata": {
        "id": "DB3u3ldumapf"
      },
      "execution_count": null,
      "outputs": []
    },
    {
      "cell_type": "code",
      "source": [
        "# Setup data to be device agnostic\n",
        "\n",
        "\n",
        "# Print out first 10 untrained model outputs (forward pass)\n",
        "print(\"Logits:\")\n",
        "## Your code here ##\n",
        "\n",
        "print(\"Pred probs:\")\n",
        "## Your code here ##\n",
        "\n",
        "print(\"Pred labels:\")\n",
        "## Your code here ##"
      ],
      "metadata": {
        "colab": {
          "base_uri": "https://localhost:8080/"
        },
        "id": "QE7XWSSunMTS",
        "outputId": "00b31909-87c9-41e3-9dbb-fb4c4bd3aabd"
      },
      "execution_count": null,
      "outputs": [
        {
          "output_type": "stream",
          "name": "stdout",
          "text": [
            "Logits:\n",
            "Pred probs:\n",
            "Pred labels:\n"
          ]
        }
      ]
    },
    {
      "cell_type": "code",
      "source": [
        "# Setup loss function and optimizer\n",
        "# loss_fn =\n",
        "# optimizer ="
      ],
      "metadata": {
        "id": "54EqLRKLo0AW"
      },
      "execution_count": null,
      "outputs": []
    },
    {
      "cell_type": "code",
      "source": [
        "# Build a training loop for the model\n",
        "\n",
        "# Loop over data\n",
        "\n",
        "\n",
        "  ## Training\n",
        "\n",
        "  # 1. Forward pass\n",
        "\n",
        "\n",
        "  # 2. Calculate the loss\n",
        "\n",
        "\n",
        "  # 3. Optimizer zero grad\n",
        "\n",
        "\n",
        "  # 4. Loss backward\n",
        "\n",
        "\n",
        "  # 5. Optimizer step\n",
        "\n",
        "\n",
        "  ## Testing\n",
        "\n",
        "\n",
        "    # 1. Forward pass\n",
        "\n",
        "    # 2. Caculate loss and acc\n",
        "\n",
        "  # Print out what's happening every 100 epochs\n",
        ""
      ],
      "metadata": {
        "id": "vIlExkUHnmxi"
      },
      "execution_count": null,
      "outputs": []
    },
    {
      "cell_type": "code",
      "source": [
        "# Plot decision boundaries for training and test sets\n"
      ],
      "metadata": {
        "id": "JrwVRbaE0keT"
      },
      "execution_count": null,
      "outputs": []
    }
  ]
}